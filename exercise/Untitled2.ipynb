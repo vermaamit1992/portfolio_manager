{
 "cells": [
  {
   "cell_type": "code",
   "execution_count": 12,
   "metadata": {},
   "outputs": [],
   "source": [
    "import numpy as np"
   ]
  },
  {
   "cell_type": "code",
   "execution_count": 13,
   "metadata": {},
   "outputs": [
    {
     "data": {
      "text/plain": [
       "array([300, 310, 320, 330, 340, 350, 360, 370, 380, 390, 400, 410, 420,\n",
       "       430, 440, 450, 460, 470, 480, 490])"
      ]
     },
     "execution_count": 13,
     "metadata": {},
     "output_type": "execute_result"
    }
   ],
   "source": [
    "x = np.arange(300,500,10)\n",
    "x"
   ]
  },
  {
   "cell_type": "code",
   "execution_count": 15,
   "metadata": {},
   "outputs": [
    {
     "data": {
      "text/plain": [
       "(20,)"
      ]
     },
     "execution_count": 15,
     "metadata": {},
     "output_type": "execute_result"
    }
   ],
   "source": [
    "x.shape"
   ]
  },
  {
   "cell_type": "code",
   "execution_count": 7,
   "metadata": {},
   "outputs": [
    {
     "data": {
      "text/plain": [
       "array([[300, 310, 320, 330, 340],\n",
       "       [350, 360, 370, 380, 390],\n",
       "       [400, 410, 420, 430, 440],\n",
       "       [450, 460, 470, 480, 490]])"
      ]
     },
     "execution_count": 7,
     "metadata": {},
     "output_type": "execute_result"
    }
   ],
   "source": [
    "x.reshape(4,5)"
   ]
  },
  {
   "cell_type": "code",
   "execution_count": 17,
   "metadata": {},
   "outputs": [
    {
     "data": {
      "text/plain": [
       "array([[ 317,   48,  217,  698,  842, -778,  -94,  373,  336,  867, -207,\n",
       "         409, -719,   23,  637,  101,  538,  420, -266,  453],\n",
       "       [-450,  915,  419, -166, -265, -637, -638, -682, -411, -610,  101,\n",
       "        -723,  352,  797, -611, -906,  623,  -89, -910,  881],\n",
       "       [-154,  722, -571, -955, -491,  789, -475, -309, -412,  497, -764,\n",
       "         377,  672,  624, -535, -663,  -91, -973,   93, -598],\n",
       "       [   7,  919,  766, -555,  684,  724, -124, -144, -585,   36, -424,\n",
       "         780,  699,  688, -395,  265,  901,   37,  738,  552],\n",
       "       [ -77, -345,  -43,  616,  544,    1, -839, -556, -408,  497, -698,\n",
       "        -970,  752, -120,  168, -578,  441,  969,  440, -516],\n",
       "       [-517, -220,  220, -193, -685,  501, -151,  724,   31, -352, -850,\n",
       "         433,   72,  803, -262, -282,  946, -756, -491,  965],\n",
       "       [ 324, -356, -164,  507,  783, -321, -959,  823, -519, -366,  781,\n",
       "        -649, -784,  492,  833, -127, -974,  511, -583,  620],\n",
       "       [ 906,   -3,  769,  141, -196,  706,  372,  527,  216, -903,  384,\n",
       "          81,  609, -517,  654,  651, -919, -948,  966,  117],\n",
       "       [ 337, -531,   66, -319,  454,  880, -717,  559, -385,  158,  704,\n",
       "          39,  664,  130, -884,   32,  673, -970,  217, -526],\n",
       "       [-978, -161,  630,  485,  917, -904, -588, -481,    6,  974,  335,\n",
       "        -816, -517,  545, -290, -169,  820,  113, -612, -147],\n",
       "       [ 589,  221,  774,  953,  551,  841,  245,  323,  712,  380, -970,\n",
       "        -356, -271, -869,  936, -446, -701,  365, -750, -570],\n",
       "       [-705,  278, -391, -946, -399, -980, -426, -997,   95,  251,  578,\n",
       "         -65,  934, -526,  258,  -38,  955,  539, -818, -437],\n",
       "       [  88,  109, -108, -226, -922,  448,  -55, -186, -947,  596,  512,\n",
       "         182,  -65,  255,  280,  203,   77,  327, -627, -104],\n",
       "       [ 842,  918,  277,  933,  824,  133, -528, -518,  157,  -73,  609,\n",
       "         399,  273,  891,   90, -560,  444,   33, -416, -838],\n",
       "       [ 176, -220,  559,  783, -652, -414,    1,  601,  354, -643, -741,\n",
       "         572,  288,  959, -418,  549,  297, -569,  491, -170],\n",
       "       [-271,  384,  674, -318, -270,   93,  533,  424, -883,  240,   56,\n",
       "         -92, -924, -916,  746, -687,  472,  845, -231,  690],\n",
       "       [ 463,  266, -953, -592, -611,  832,  667, -142, -337,  242, -275,\n",
       "          55,  855,   55, -183,  601,  397, -172,  163,  196],\n",
       "       [-295, -848, -300,  224, -457, -500, -824,  362, -981, -781, -354,\n",
       "         182,  867,  496,  928,  579,  113, -508, -394,  757],\n",
       "       [ 764,  692, -644, -902,  326,   51,  565,   10,   21, -245, -490,\n",
       "        -726,  119,  -23, -410,  957,  934,  994,    2,  887],\n",
       "       [ 148, -256, -590,  924,  332, -247, -805,  791,  260, -614,  540,\n",
       "        -273,   79, -944,  991, -985, -106, -118, -394,  908]])"
      ]
     },
     "execution_count": 17,
     "metadata": {},
     "output_type": "execute_result"
    }
   ],
   "source": [
    "x= np.random.randint(-1000,1000, (20,20))\n",
    "x"
   ]
  },
  {
   "cell_type": "code",
   "execution_count": 18,
   "metadata": {},
   "outputs": [
    {
     "data": {
      "text/plain": [
       "994"
      ]
     },
     "execution_count": 18,
     "metadata": {},
     "output_type": "execute_result"
    }
   ],
   "source": [
    "x.max()"
   ]
  },
  {
   "cell_type": "code",
   "execution_count": 19,
   "metadata": {},
   "outputs": [
    {
     "data": {
      "text/plain": [
       "377"
      ]
     },
     "execution_count": 19,
     "metadata": {},
     "output_type": "execute_result"
    }
   ],
   "source": [
    "x.argmax()"
   ]
  },
  {
   "cell_type": "code",
   "execution_count": 20,
   "metadata": {},
   "outputs": [
    {
     "data": {
      "text/plain": [
       "(20, 20)"
      ]
     },
     "execution_count": 20,
     "metadata": {},
     "output_type": "execute_result"
    }
   ],
   "source": [
    "x.shape"
   ]
  },
  {
   "cell_type": "code",
   "execution_count": 21,
   "metadata": {},
   "outputs": [
    {
     "data": {
      "text/plain": [
       "-997"
      ]
     },
     "execution_count": 21,
     "metadata": {},
     "output_type": "execute_result"
    }
   ],
   "source": [
    "x.min()"
   ]
  },
  {
   "cell_type": "code",
   "execution_count": 29,
   "metadata": {},
   "outputs": [
    {
     "name": "stdout",
     "output_type": "stream",
     "text": [
      "[  1 196 529]\n",
      "726\n"
     ]
    }
   ],
   "source": [
    "x=np.array([3, 20, 30])\n",
    "y=np.array([4 ,6, 7 ])\n",
    "d = x - y\n",
    "i = d**2\n",
    "t = i[0]+i[1]+i[2]\n",
    "print(i)\n",
    "print(t)"
   ]
  },
  {
   "cell_type": "code",
   "execution_count": null,
   "metadata": {},
   "outputs": [],
   "source": []
  }
 ],
 "metadata": {
  "kernelspec": {
   "display_name": "Python 3",
   "language": "python",
   "name": "python3"
  },
  "language_info": {
   "codemirror_mode": {
    "name": "ipython",
    "version": 3
   },
   "file_extension": ".py",
   "mimetype": "text/x-python",
   "name": "python",
   "nbconvert_exporter": "python",
   "pygments_lexer": "ipython3",
   "version": "3.8.3"
  }
 },
 "nbformat": 4,
 "nbformat_minor": 4
}
