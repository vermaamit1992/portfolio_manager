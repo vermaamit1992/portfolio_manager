{
 "cells": [
  {
   "cell_type": "code",
   "execution_count": 29,
   "metadata": {},
   "outputs": [],
   "source": [
    "import pandas as pd\n",
    "import numpy as np\n",
    "from pandas_datareader import data as pd_read\n",
    "import functools \n",
    "\n",
    "SYM = \"Symbol\"\n",
    "QTY = \"Qty Available\"\n",
    "WEI = \"Weight\"\n",
    "MEAN = \"Mean\"\n",
    "STD = \"Std\"\n",
    "VARI = \"Variance\"\n",
    "\n"
   ]
  },
  {
   "cell_type": "code",
   "execution_count": 30,
   "metadata": {},
   "outputs": [],
   "source": [
    "#read portfolio from actual zerodha sheet\n",
    "\n",
    "PORTFOLIO_LOC = '../data/portfolio.xlsx' # replace the file in the data directory with you portfolio with name as portfolio.xlsx\n",
    "portfolio_file = open(PORTFOLIO_LOC, 'rb')\n",
    "portfolio = pd.read_excel(io = portfolio_file, usecols = \"B,E\", skiprows = 9, dtype =  {'b': np.str, 'e': np.int32} )"
   ]
  },
  {
   "cell_type": "code",
   "execution_count": 31,
   "metadata": {},
   "outputs": [],
   "source": [
    "#ZERODHA sheet corrections \n",
    "\n",
    "#IDK WTF is AXISBANK6 in ZERODHA \n",
    "portfolio[SYM] = portfolio[SYM].replace(to_replace = \"AXISBANK6\", value = \"AXISBANK\")\n",
    "#yahooo expects BS/NS suffix to symbol , assuming al stock in NSE\n",
    "portfolio[SYM] += \".NS\""
   ]
  },
  {
   "cell_type": "code",
   "execution_count": 32,
   "metadata": {},
   "outputs": [],
   "source": [
    "# make a weighted portfolio \n",
    "total_qty = portfolio[QTY].sum()\n",
    "portfolio[WEI] = portfolio[QTY] / total_qty"
   ]
  },
  {
   "cell_type": "code",
   "execution_count": 33,
   "metadata": {},
   "outputs": [
    {
     "data": {
      "text/html": [
       "<div>\n",
       "<style scoped>\n",
       "    .dataframe tbody tr th:only-of-type {\n",
       "        vertical-align: middle;\n",
       "    }\n",
       "\n",
       "    .dataframe tbody tr th {\n",
       "        vertical-align: top;\n",
       "    }\n",
       "\n",
       "    .dataframe thead th {\n",
       "        text-align: right;\n",
       "    }\n",
       "</style>\n",
       "<table border=\"1\" class=\"dataframe\">\n",
       "  <thead>\n",
       "    <tr style=\"text-align: right;\">\n",
       "      <th></th>\n",
       "      <th>Symbol</th>\n",
       "      <th>Qty Available</th>\n",
       "      <th>Weight</th>\n",
       "      <th>Mean</th>\n",
       "      <th>Std</th>\n",
       "      <th>Variance</th>\n",
       "    </tr>\n",
       "  </thead>\n",
       "  <tbody>\n",
       "    <tr>\n",
       "      <th>0</th>\n",
       "      <td>BHEL.NS</td>\n",
       "      <td>8</td>\n",
       "      <td>0.084211</td>\n",
       "      <td>-0.001912</td>\n",
       "      <td>0.039817</td>\n",
       "      <td>0.039817</td>\n",
       "    </tr>\n",
       "    <tr>\n",
       "      <th>1</th>\n",
       "      <td>HUDCO.NS</td>\n",
       "      <td>4</td>\n",
       "      <td>0.042105</td>\n",
       "      <td>-0.000708</td>\n",
       "      <td>0.033307</td>\n",
       "      <td>0.033307</td>\n",
       "    </tr>\n",
       "    <tr>\n",
       "      <th>2</th>\n",
       "      <td>LUPIN.NS</td>\n",
       "      <td>1</td>\n",
       "      <td>0.010526</td>\n",
       "      <td>0.001089</td>\n",
       "      <td>0.026045</td>\n",
       "      <td>0.026045</td>\n",
       "    </tr>\n",
       "    <tr>\n",
       "      <th>3</th>\n",
       "      <td>DABUR.NS</td>\n",
       "      <td>1</td>\n",
       "      <td>0.010526</td>\n",
       "      <td>0.000541</td>\n",
       "      <td>0.021097</td>\n",
       "      <td>0.021097</td>\n",
       "    </tr>\n",
       "    <tr>\n",
       "      <th>4</th>\n",
       "      <td>BIOCON.NS</td>\n",
       "      <td>4</td>\n",
       "      <td>0.042105</td>\n",
       "      <td>0.001531</td>\n",
       "      <td>0.025685</td>\n",
       "      <td>0.025685</td>\n",
       "    </tr>\n",
       "    <tr>\n",
       "      <th>5</th>\n",
       "      <td>NLCINDIA.NS</td>\n",
       "      <td>1</td>\n",
       "      <td>0.010526</td>\n",
       "      <td>-0.000713</td>\n",
       "      <td>0.027458</td>\n",
       "      <td>0.027458</td>\n",
       "    </tr>\n",
       "    <tr>\n",
       "      <th>6</th>\n",
       "      <td>LICHSGFIN.NS</td>\n",
       "      <td>1</td>\n",
       "      <td>0.010526</td>\n",
       "      <td>-0.001804</td>\n",
       "      <td>0.040060</td>\n",
       "      <td>0.040060</td>\n",
       "    </tr>\n",
       "    <tr>\n",
       "      <th>7</th>\n",
       "      <td>ITC.NS</td>\n",
       "      <td>4</td>\n",
       "      <td>0.042105</td>\n",
       "      <td>-0.001693</td>\n",
       "      <td>0.026963</td>\n",
       "      <td>0.026963</td>\n",
       "    </tr>\n",
       "    <tr>\n",
       "      <th>8</th>\n",
       "      <td>UPL.NS</td>\n",
       "      <td>1</td>\n",
       "      <td>0.010526</td>\n",
       "      <td>-0.001498</td>\n",
       "      <td>0.035066</td>\n",
       "      <td>0.035066</td>\n",
       "    </tr>\n",
       "    <tr>\n",
       "      <th>9</th>\n",
       "      <td>ICICIBANK.NS</td>\n",
       "      <td>1</td>\n",
       "      <td>0.010526</td>\n",
       "      <td>-0.001387</td>\n",
       "      <td>0.036095</td>\n",
       "      <td>0.036095</td>\n",
       "    </tr>\n",
       "    <tr>\n",
       "      <th>10</th>\n",
       "      <td>HINDPETRO.NS</td>\n",
       "      <td>1</td>\n",
       "      <td>0.010526</td>\n",
       "      <td>-0.002059</td>\n",
       "      <td>0.032336</td>\n",
       "      <td>0.032336</td>\n",
       "    </tr>\n",
       "    <tr>\n",
       "      <th>11</th>\n",
       "      <td>ASHOKLEY.NS</td>\n",
       "      <td>15</td>\n",
       "      <td>0.157895</td>\n",
       "      <td>-0.000147</td>\n",
       "      <td>0.045923</td>\n",
       "      <td>0.045923</td>\n",
       "    </tr>\n",
       "    <tr>\n",
       "      <th>12</th>\n",
       "      <td>AXISBANK.NS</td>\n",
       "      <td>1</td>\n",
       "      <td>0.010526</td>\n",
       "      <td>-0.002045</td>\n",
       "      <td>0.043922</td>\n",
       "      <td>0.043922</td>\n",
       "    </tr>\n",
       "    <tr>\n",
       "      <th>13</th>\n",
       "      <td>IOC.NS</td>\n",
       "      <td>4</td>\n",
       "      <td>0.042105</td>\n",
       "      <td>-0.002343</td>\n",
       "      <td>0.023705</td>\n",
       "      <td>0.023705</td>\n",
       "    </tr>\n",
       "    <tr>\n",
       "      <th>14</th>\n",
       "      <td>CRISIL.NS</td>\n",
       "      <td>1</td>\n",
       "      <td>0.010526</td>\n",
       "      <td>-0.000059</td>\n",
       "      <td>0.025952</td>\n",
       "      <td>0.025952</td>\n",
       "    </tr>\n",
       "    <tr>\n",
       "      <th>15</th>\n",
       "      <td>TATAMOTORS.NS</td>\n",
       "      <td>4</td>\n",
       "      <td>0.042105</td>\n",
       "      <td>-0.001577</td>\n",
       "      <td>0.040285</td>\n",
       "      <td>0.040285</td>\n",
       "    </tr>\n",
       "    <tr>\n",
       "      <th>16</th>\n",
       "      <td>COCHINSHIP.NS</td>\n",
       "      <td>2</td>\n",
       "      <td>0.021053</td>\n",
       "      <td>-0.000641</td>\n",
       "      <td>0.034928</td>\n",
       "      <td>0.034928</td>\n",
       "    </tr>\n",
       "    <tr>\n",
       "      <th>17</th>\n",
       "      <td>SBIN.NS</td>\n",
       "      <td>11</td>\n",
       "      <td>0.115789</td>\n",
       "      <td>-0.002602</td>\n",
       "      <td>0.031740</td>\n",
       "      <td>0.031740</td>\n",
       "    </tr>\n",
       "    <tr>\n",
       "      <th>18</th>\n",
       "      <td>BEL.NS</td>\n",
       "      <td>1</td>\n",
       "      <td>0.010526</td>\n",
       "      <td>-0.000527</td>\n",
       "      <td>0.035682</td>\n",
       "      <td>0.035682</td>\n",
       "    </tr>\n",
       "    <tr>\n",
       "      <th>19</th>\n",
       "      <td>SETFNN50.NS</td>\n",
       "      <td>10</td>\n",
       "      <td>0.105263</td>\n",
       "      <td>-0.000431</td>\n",
       "      <td>0.018456</td>\n",
       "      <td>0.018456</td>\n",
       "    </tr>\n",
       "    <tr>\n",
       "      <th>20</th>\n",
       "      <td>SBICARD.NS</td>\n",
       "      <td>19</td>\n",
       "      <td>0.200000</td>\n",
       "      <td>0.000999</td>\n",
       "      <td>0.033308</td>\n",
       "      <td>0.033308</td>\n",
       "    </tr>\n",
       "  </tbody>\n",
       "</table>\n",
       "</div>"
      ],
      "text/plain": [
       "           Symbol  Qty Available    Weight      Mean       Std  Variance\n",
       "0         BHEL.NS              8  0.084211 -0.001912  0.039817  0.039817\n",
       "1        HUDCO.NS              4  0.042105 -0.000708  0.033307  0.033307\n",
       "2        LUPIN.NS              1  0.010526  0.001089  0.026045  0.026045\n",
       "3        DABUR.NS              1  0.010526  0.000541  0.021097  0.021097\n",
       "4       BIOCON.NS              4  0.042105  0.001531  0.025685  0.025685\n",
       "5     NLCINDIA.NS              1  0.010526 -0.000713  0.027458  0.027458\n",
       "6    LICHSGFIN.NS              1  0.010526 -0.001804  0.040060  0.040060\n",
       "7          ITC.NS              4  0.042105 -0.001693  0.026963  0.026963\n",
       "8          UPL.NS              1  0.010526 -0.001498  0.035066  0.035066\n",
       "9    ICICIBANK.NS              1  0.010526 -0.001387  0.036095  0.036095\n",
       "10   HINDPETRO.NS              1  0.010526 -0.002059  0.032336  0.032336\n",
       "11    ASHOKLEY.NS             15  0.157895 -0.000147  0.045923  0.045923\n",
       "12    AXISBANK.NS              1  0.010526 -0.002045  0.043922  0.043922\n",
       "13         IOC.NS              4  0.042105 -0.002343  0.023705  0.023705\n",
       "14      CRISIL.NS              1  0.010526 -0.000059  0.025952  0.025952\n",
       "15  TATAMOTORS.NS              4  0.042105 -0.001577  0.040285  0.040285\n",
       "16  COCHINSHIP.NS              2  0.021053 -0.000641  0.034928  0.034928\n",
       "17        SBIN.NS             11  0.115789 -0.002602  0.031740  0.031740\n",
       "18         BEL.NS              1  0.010526 -0.000527  0.035682  0.035682\n",
       "19    SETFNN50.NS             10  0.105263 -0.000431  0.018456  0.018456\n",
       "20     SBICARD.NS             19  0.200000  0.000999  0.033308  0.033308"
      ]
     },
     "execution_count": 33,
     "metadata": {},
     "output_type": "execute_result"
    }
   ],
   "source": [
    "# add mean std var for each stock to portfolio\n",
    "stock_data = pd.DataFrame()\n",
    "for stock in portfolio[SYM]:\n",
    "    stock_data[stock]= pd_read.DataReader(stock, data_source='yahoo', start='2020-1-1')['Close']\n",
    "stock_returns = np.log(stock_data/stock_data.shift(1))\n",
    "portfolio = portfolio.merge(pd.DataFrame().join([stock_returns.mean().to_frame(MEAN),stock_returns.std().to_frame(STD),stock_returns.std().to_frame(VARI)],how = 'outer'),left_index = False, right_index = True, how = 'left', left_on = SYM) \n",
    "portfolio"
   ]
  },
  {
   "cell_type": "code",
   "execution_count": 34,
   "metadata": {},
   "outputs": [],
   "source": [
    "# calculate covariance matrix \n",
    "cov_matrix = stock_returns.cov()"
   ]
  },
  {
   "cell_type": "code",
   "execution_count": 35,
   "metadata": {},
   "outputs": [
    {
     "data": {
      "text/plain": [
       "0.0005535400150538315"
      ]
     },
     "execution_count": 35,
     "metadata": {},
     "output_type": "execute_result"
    }
   ],
   "source": [
    "# portfolio risk\n",
    "portfolio_risk = np.dot(portfolio[WEI].T, np.dot(cov_matrix, portfolio[WEI]))\n",
    "portfolio_risk"
   ]
  },
  {
   "cell_type": "code",
   "execution_count": 36,
   "metadata": {},
   "outputs": [
    {
     "data": {
      "text/plain": [
       "0.023527431118884005"
      ]
     },
     "execution_count": 36,
     "metadata": {},
     "output_type": "execute_result"
    }
   ],
   "source": [
    "#portfolio_volatility \n",
    "portfolio_volatility = portfolio_risk ** 0.5\n",
    "portfolio_volatility"
   ]
  },
  {
   "cell_type": "code",
   "execution_count": 37,
   "metadata": {},
   "outputs": [
    {
     "data": {
      "text/plain": [
       "-0.003153256285841866"
      ]
     },
     "execution_count": 37,
     "metadata": {},
     "output_type": "execute_result"
    }
   ],
   "source": [
    "#diversifiable risk  = portfolio risk - sum of  weigth **2 - variance for each stock \n",
    "diversifiabe_risk = portfolio_risk - (portfolio[WEI]**2 * portfolio[VARI]).sum()\n",
    "diversifiabe_risk"
   ]
  },
  {
   "cell_type": "code",
   "execution_count": 38,
   "metadata": {},
   "outputs": [
    {
     "data": {
      "text/plain": [
       "-0.06353870807996014"
      ]
     },
     "execution_count": 38,
     "metadata": {},
     "output_type": "execute_result"
    }
   ],
   "source": [
    "#%return for portfolio since 1st Jan 2020 (assuming constant portfolio)\n",
    "np.dot(stock_returns.mean(), portfolio[WEI]) * 100"
   ]
  },
  {
   "cell_type": "code",
   "execution_count": 41,
   "metadata": {},
   "outputs": [
    {
     "data": {
      "text/plain": [
       "Symbol            BIOCON.NS\n",
       "Qty Available             4\n",
       "Weight            0.0421053\n",
       "Mean             0.00153123\n",
       "Std               0.0256853\n",
       "Variance          0.0256853\n",
       "Name: 4, dtype: object"
      ]
     },
     "execution_count": 41,
     "metadata": {},
     "output_type": "execute_result"
    }
   ],
   "source": [
    "#highest reurn\n",
    "portfolio.iloc[portfolio[MEAN].idxmax()]"
   ]
  },
  {
   "cell_type": "code",
   "execution_count": 42,
   "metadata": {},
   "outputs": [
    {
     "data": {
      "text/plain": [
       "Symbol             SBIN.NS\n",
       "Qty Available           11\n",
       "Weight            0.115789\n",
       "Mean             -0.002602\n",
       "Std              0.0317397\n",
       "Variance         0.0317397\n",
       "Name: 17, dtype: object"
      ]
     },
     "execution_count": 42,
     "metadata": {},
     "output_type": "execute_result"
    }
   ],
   "source": [
    "#lowest return\n",
    "portfolio.iloc[portfolio[MEAN].idxmin()]"
   ]
  }
 ],
 "metadata": {
  "kernelspec": {
   "display_name": "Python 3",
   "language": "python",
   "name": "python3"
  },
  "language_info": {
   "codemirror_mode": {
    "name": "ipython",
    "version": 3
   },
   "file_extension": ".py",
   "mimetype": "text/x-python",
   "name": "python",
   "nbconvert_exporter": "python",
   "pygments_lexer": "ipython3",
   "version": "3.8.5"
  }
 },
 "nbformat": 4,
 "nbformat_minor": 4
}
